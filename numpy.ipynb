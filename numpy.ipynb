{
 "cells": [
  {
   "cell_type": "code",
   "execution_count": 2,
   "id": "d195d88b-1d03-4754-b1b6-a93ebf47adec",
   "metadata": {
    "tags": []
   },
   "outputs": [
    {
     "name": "stdout",
     "output_type": "stream",
     "text": [
      "[2.  3.  4.  9.1]\n"
     ]
    }
   ],
   "source": [
    "import numpy as np\n",
    "x = [2, 3, 4.0, 9.1]\n",
    "y = np.array(x)\n",
    "print(y)"
   ]
  },
  {
   "cell_type": "code",
   "execution_count": 3,
   "id": "343b3fbc-3302-428a-b068-9b310f1d9902",
   "metadata": {},
   "outputs": [
    {
     "data": {
      "text/plain": [
       "array([10, 11, 12, 13, 14, 15, 16, 17, 18, 19])"
      ]
     },
     "execution_count": 3,
     "metadata": {},
     "output_type": "execute_result"
    }
   ],
   "source": [
    "x = np.arange(10, 20)\n",
    "x"
   ]
  },
  {
   "cell_type": "code",
   "execution_count": 4,
   "id": "9c93f0af-94ba-4769-8f30-ef5dbb19424f",
   "metadata": {
    "tags": []
   },
   "outputs": [
    {
     "data": {
      "text/plain": [
       "array([[0., 0., 0., 0.],\n",
       "       [0., 0., 0., 0.],\n",
       "       [0., 0., 0., 0.]])"
      ]
     },
     "execution_count": 4,
     "metadata": {},
     "output_type": "execute_result"
    }
   ],
   "source": [
    "x = np.zeros((3, 4))\n",
    "x"
   ]
  },
  {
   "cell_type": "code",
   "execution_count": 8,
   "id": "9d195cc4-cdd9-4ec5-8581-285bf906ba8a",
   "metadata": {},
   "outputs": [
    {
     "name": "stdout",
     "output_type": "stream",
     "text": [
      "(3, 4)\n",
      "2\n",
      "12\n"
     ]
    }
   ],
   "source": [
    "print(x.shape)\n",
    "print(x.ndim)\n",
    "print(x.size)"
   ]
  },
  {
   "cell_type": "code",
   "execution_count": 11,
   "id": "dc79686a-8030-43f3-a331-439736ae7f9d",
   "metadata": {},
   "outputs": [
    {
     "data": {
      "text/plain": [
       "array([[6., 6., 6., 6.],\n",
       "       [6., 6., 6., 6.],\n",
       "       [6., 6., 6., 6.]])"
      ]
     },
     "execution_count": 11,
     "metadata": {},
     "output_type": "execute_result"
    }
   ],
   "source": [
    "x + 6"
   ]
  },
  {
   "cell_type": "code",
   "execution_count": 14,
   "id": "5d8c2ed5-d3b5-4078-9683-260598e567bd",
   "metadata": {},
   "outputs": [
    {
     "name": "stdout",
     "output_type": "stream",
     "text": [
      "[6, 7, 8, 9, 10]\n"
     ]
    }
   ],
   "source": [
    "x = [1, 2, 3, 4, 5]\n",
    "y = [i + 5 for i in x]\n",
    "print(y)"
   ]
  },
  {
   "cell_type": "code",
   "execution_count": 15,
   "id": "c82914ce-fc67-48d0-aa0f-7815de5d6977",
   "metadata": {},
   "outputs": [
    {
     "data": {
      "text/plain": [
       "array([[1., 1., 1., 1.],\n",
       "       [1., 1., 1., 1.],\n",
       "       [1., 1., 1., 1.],\n",
       "       [1., 1., 1., 1.]])"
      ]
     },
     "execution_count": 15,
     "metadata": {},
     "output_type": "execute_result"
    }
   ],
   "source": [
    "np.ones((4, 4))"
   ]
  },
  {
   "cell_type": "code",
   "execution_count": 17,
   "id": "ce400681-6efe-4fa0-a589-4c6230cb552f",
   "metadata": {},
   "outputs": [
    {
     "data": {
      "text/plain": [
       "array([[1., 0., 0., 0.],\n",
       "       [0., 1., 0., 0.],\n",
       "       [0., 0., 1., 0.],\n",
       "       [0., 0., 0., 1.]])"
      ]
     },
     "execution_count": 17,
     "metadata": {},
     "output_type": "execute_result"
    }
   ],
   "source": [
    "np.eye(4, 4)"
   ]
  },
  {
   "cell_type": "code",
   "execution_count": 20,
   "id": "6a47607a-b5c7-4c32-88d7-b34a046b9fdc",
   "metadata": {},
   "outputs": [
    {
     "data": {
      "text/plain": [
       "array([[66.33344361, 77.496247  , 58.03734442, 10.43115676],\n",
       "       [75.42709406, 69.32243743, 70.49196628, 89.97702627],\n",
       "       [ 8.84575304, 90.21921843, 71.2062418 , 90.67357468]])"
      ]
     },
     "execution_count": 20,
     "metadata": {},
     "output_type": "execute_result"
    }
   ],
   "source": [
    "np.random.rand(3, 4) * 100"
   ]
  },
  {
   "cell_type": "code",
   "execution_count": 21,
   "id": "9b651180-9ba3-4b6c-8fdc-bb9701540d1b",
   "metadata": {},
   "outputs": [
    {
     "data": {
      "text/plain": [
       "array([[ 1079.63635999,   674.2926385 ,  1369.81861155,   412.85999155],\n",
       "       [  223.0374476 , -1478.88147499,  1102.68161569,  -845.29657956],\n",
       "       [ -325.97368657,   305.63599669,  2454.2602169 ,   150.78187536]])"
      ]
     },
     "execution_count": 21,
     "metadata": {},
     "output_type": "execute_result"
    }
   ],
   "source": [
    "np.random.randn(3, 4) * 1000"
   ]
  },
  {
   "cell_type": "code",
   "execution_count": 3,
   "id": "b4978126-e66f-45b4-8ee8-1031e1d881bf",
   "metadata": {
    "tags": []
   },
   "outputs": [
    {
     "data": {
      "text/plain": [
       "array([[9, 4, 0],\n",
       "       [1, 9, 0],\n",
       "       [1, 8, 9]])"
      ]
     },
     "execution_count": 3,
     "metadata": {},
     "output_type": "execute_result"
    }
   ],
   "source": [
    "np.random.seed(10)\n",
    "x = np.random.randint(0, 10, (3, 3))\n",
    "x"
   ]
  },
  {
   "cell_type": "code",
   "execution_count": 5,
   "id": "89f2c60d-0e88-4067-bf61-5d2064894d2d",
   "metadata": {
    "tags": []
   },
   "outputs": [
    {
     "data": {
      "text/plain": [
       "array([[9]])"
      ]
     },
     "execution_count": 5,
     "metadata": {},
     "output_type": "execute_result"
    }
   ],
   "source": [
    "x[1:2,1:2]"
   ]
  },
  {
   "cell_type": "code",
   "execution_count": 82,
   "id": "0dd78f60-3d4f-46cb-9e02-47699ecb61f0",
   "metadata": {},
   "outputs": [
    {
     "data": {
      "text/plain": [
       "array([13, 10, 18])"
      ]
     },
     "execution_count": 82,
     "metadata": {},
     "output_type": "execute_result"
    }
   ],
   "source": [
    "x.sum(axis = 1)"
   ]
  },
  {
   "cell_type": "code",
   "execution_count": 86,
   "id": "9f3901b6-94fe-46ba-a181-3445668c528a",
   "metadata": {},
   "outputs": [
    {
     "name": "stdout",
     "output_type": "stream",
     "text": [
      "(30, 40) (40, 30)\n"
     ]
    }
   ],
   "source": [
    "x = np.random.randint(1, 10, (30, 40))\n",
    "y = np.random.randint(10, 20, (40, 30))\n",
    "print(x.shape, y.shape)"
   ]
  },
  {
   "cell_type": "code",
   "execution_count": 89,
   "id": "09f2c7a4-3177-46aa-be34-bacb3f1d3a8f",
   "metadata": {},
   "outputs": [],
   "source": [
    "# print(np.matmul(x, y))\n",
    "# print(x @ y)"
   ]
  },
  {
   "cell_type": "code",
   "execution_count": 97,
   "id": "9202bac5-b8e6-4c21-ae88-3793d9059f61",
   "metadata": {},
   "outputs": [],
   "source": [
    "np.random.seed(42)\n",
    "x = np.random.randint(10, 30, (3, 2, 4, 3))"
   ]
  },
  {
   "cell_type": "code",
   "execution_count": 124,
   "id": "7de17169-1466-4654-a08d-49dd7bbac6e6",
   "metadata": {
    "scrolled": true
   },
   "outputs": [
    {
     "data": {
      "text/plain": [
       "array([[[[16, 29, 24],\n",
       "         [20, 17, 16],\n",
       "         [28, 20, 20],\n",
       "         [13, 17, 12]],\n",
       "\n",
       "        [[11, 21, 15],\n",
       "         [11, 10, 21],\n",
       "         [21, 26, 19],\n",
       "         [25, 24, 24]]],\n",
       "\n",
       "\n",
       "       [[[28, 21, 29],\n",
       "         [12, 14, 28],\n",
       "         [16, 18, 16],\n",
       "         [27, 13, 23]],\n",
       "\n",
       "        [[27, 18, 11],\n",
       "         [29, 24, 16],\n",
       "         [21, 17, 24],\n",
       "         [12, 23, 26]]],\n",
       "\n",
       "\n",
       "       [[[13, 27, 17],\n",
       "         [13, 11, 15],\n",
       "         [19, 13, 27],\n",
       "         [21, 11, 19]],\n",
       "\n",
       "        [[13, 23, 25],\n",
       "         [24, 17, 23],\n",
       "         [17, 25, 22],\n",
       "         [27, 24, 22]]]])"
      ]
     },
     "execution_count": 124,
     "metadata": {},
     "output_type": "execute_result"
    }
   ],
   "source": [
    "x"
   ]
  },
  {
   "cell_type": "code",
   "execution_count": 126,
   "id": "26edec40-75d9-460e-9565-ac14e4057387",
   "metadata": {},
   "outputs": [
    {
     "data": {
      "text/plain": [
       "array([[13, 27, 17],\n",
       "       [13, 11, 15],\n",
       "       [19, 13, 27]])"
      ]
     },
     "execution_count": 126,
     "metadata": {},
     "output_type": "execute_result"
    }
   ],
   "source": [
    "x[2, 0, :3 ,:]"
   ]
  },
  {
   "cell_type": "code",
   "execution_count": 127,
   "id": "08853d41-98f4-4091-85b3-a93fd97bb20f",
   "metadata": {},
   "outputs": [
    {
     "data": {
      "text/plain": [
       "dtype('int32')"
      ]
     },
     "execution_count": 127,
     "metadata": {},
     "output_type": "execute_result"
    }
   ],
   "source": [
    "x.dtype"
   ]
  },
  {
   "cell_type": "code",
   "execution_count": 104,
   "id": "7da9b25b-4c8b-473d-9f4d-0c9195e1210b",
   "metadata": {},
   "outputs": [
    {
     "data": {
      "text/plain": [
       "array([[[12, 10, 12, 14],\n",
       "        [12, 10, 14, 19],\n",
       "        [16, 16, 18, 19],\n",
       "        [19, 12, 16, 10]],\n",
       "\n",
       "       [[13, 13, 14, 16],\n",
       "        [16, 13, 16, 12],\n",
       "        [15, 11, 19, 18],\n",
       "        [14, 15, 13, 19]],\n",
       "\n",
       "       [[16, 18, 16, 10],\n",
       "        [10, 18, 18, 13],\n",
       "        [18, 12, 16, 15],\n",
       "        [17, 18, 14, 10]]])"
      ]
     },
     "execution_count": 104,
     "metadata": {},
     "output_type": "execute_result"
    }
   ],
   "source": [
    "y = np.random.randint(10, 20, (3, 4, 4))\n",
    "y"
   ]
  },
  {
   "cell_type": "code",
   "execution_count": 106,
   "id": "a43d7f09-babb-4ee0-b549-9840e942b0d5",
   "metadata": {},
   "outputs": [
    {
     "data": {
      "text/plain": [
       "array([[[13, 16, 12],\n",
       "        [11, 19, 18]],\n",
       "\n",
       "       [[18, 18, 13],\n",
       "        [12, 16, 15]]])"
      ]
     },
     "execution_count": 106,
     "metadata": {},
     "output_type": "execute_result"
    }
   ],
   "source": [
    "y[1:, 1:3, 1:]"
   ]
  },
  {
   "cell_type": "code",
   "execution_count": 1,
   "id": "93408bba-df38-4551-8936-1a4b1b42463f",
   "metadata": {},
   "outputs": [],
   "source": [
    "import numpy as np"
   ]
  },
  {
   "cell_type": "code",
   "execution_count": 26,
   "id": "92057e10-c50d-44ad-bb81-80abfbda7a96",
   "metadata": {},
   "outputs": [
    {
     "name": "stdout",
     "output_type": "stream",
     "text": [
      "(20,)\n",
      "(2, 2, 5)\n"
     ]
    }
   ],
   "source": [
    "x = np.arange(1, 21) # vector\n",
    "y = x.reshape(-1, 5).reshape(2, 2, 5)\n",
    "print(x.shape)\n",
    "print(y.shape)"
   ]
  },
  {
   "cell_type": "code",
   "execution_count": 27,
   "id": "0d850949-2b8d-454b-8665-bc86e64cd9c8",
   "metadata": {},
   "outputs": [
    {
     "name": "stdout",
     "output_type": "stream",
     "text": [
      "[[[ 1  2  3  4  5]\n",
      "  [ 6  7  8  9 10]]\n",
      "\n",
      " [[11 12 13 14 15]\n",
      "  [16 17 18 19 20]]]\n"
     ]
    }
   ],
   "source": [
    "print(y)"
   ]
  },
  {
   "cell_type": "code",
   "execution_count": 33,
   "id": "6ef5fe07-8d76-467b-a5f9-a009a5ce13cd",
   "metadata": {},
   "outputs": [
    {
     "data": {
      "text/plain": [
       "array([[1.        , 1.22222222, 1.44444444, 1.66666667, 1.88888889,\n",
       "        2.11111111, 2.33333333, 2.55555556, 2.77777778, 3.        ]])"
      ]
     },
     "execution_count": 33,
     "metadata": {},
     "output_type": "execute_result"
    }
   ],
   "source": [
    "x = np.linspace(1, 3, 10)\n",
    "x[np.newaxis, :] # x.reshape(1, -1)"
   ]
  },
  {
   "cell_type": "code",
   "execution_count": 37,
   "id": "362514ab-62bf-4b31-a48e-70ca95bd5c3b",
   "metadata": {},
   "outputs": [
    {
     "data": {
      "text/plain": [
       "array([[12, 71, 68, 28, 95],\n",
       "       [44, 90, 80, 26, 47],\n",
       "       [75, 28, 92, 38, 75],\n",
       "       [11, 46, 22, 30, 18]])"
      ]
     },
     "execution_count": 37,
     "metadata": {},
     "output_type": "execute_result"
    }
   ],
   "source": [
    "x = np.random.randint(10, 100, (4, 5))\n",
    "x"
   ]
  },
  {
   "cell_type": "code",
   "execution_count": 41,
   "id": "ab0065dd-58a5-4bf9-9f0b-597d8b5a667f",
   "metadata": {},
   "outputs": [
    {
     "data": {
      "text/plain": [
       "array([75, 90, 92, 38, 95])"
      ]
     },
     "execution_count": 41,
     "metadata": {},
     "output_type": "execute_result"
    }
   ],
   "source": [
    "x.max(axis = 0)"
   ]
  },
  {
   "cell_type": "code",
   "execution_count": 52,
   "id": "5069c465-22cc-414c-973c-0419af6da268",
   "metadata": {},
   "outputs": [
    {
     "data": {
      "text/plain": [
       "array([ 2.,  3.,  4.,  5., nan])"
      ]
     },
     "execution_count": 52,
     "metadata": {},
     "output_type": "execute_result"
    }
   ],
   "source": [
    "x = np.array([2, 3, 4, 5, np.nan])\n",
    "x"
   ]
  },
  {
   "cell_type": "code",
   "execution_count": 54,
   "id": "f0e6c2b5-cdad-410c-ba99-969af48c8f03",
   "metadata": {},
   "outputs": [
    {
     "data": {
      "text/plain": [
       "14.0"
      ]
     },
     "execution_count": 54,
     "metadata": {},
     "output_type": "execute_result"
    }
   ],
   "source": [
    "np.nansum(x)"
   ]
  },
  {
   "cell_type": "code",
   "execution_count": 48,
   "id": "2886d9bd-86b4-473b-be8c-b89557e07e8e",
   "metadata": {},
   "outputs": [
    {
     "data": {
      "text/plain": [
       "nan"
      ]
     },
     "execution_count": 48,
     "metadata": {},
     "output_type": "execute_result"
    }
   ],
   "source": [
    "np.nan + 2"
   ]
  },
  {
   "cell_type": "code",
   "execution_count": null,
   "id": "cf9da40f-f367-4d83-962e-bb651bd5baf3",
   "metadata": {},
   "outputs": [],
   "source": [
    "np.random.randn("
   ]
  },
  {
   "cell_type": "code",
   "execution_count": 58,
   "id": "a6728154-2285-4a46-a951-ddb120d6d2b0",
   "metadata": {},
   "outputs": [
    {
     "data": {
      "text/plain": [
       "array([[[[41, 59]],\n",
       "\n",
       "        [[22, 26]],\n",
       "\n",
       "        [[88, 36]]],\n",
       "\n",
       "\n",
       "       [[[20, 59]],\n",
       "\n",
       "        [[28, 83]],\n",
       "\n",
       "        [[22, 58]]]])"
      ]
     },
     "execution_count": 58,
     "metadata": {},
     "output_type": "execute_result"
    }
   ],
   "source": [
    "x = np.random.randint(1,100,(2,3,1,2))\n",
    "x"
   ]
  },
  {
   "cell_type": "code",
   "execution_count": 7,
   "id": "f12b0b75-9328-4379-874a-42663a65c605",
   "metadata": {
    "tags": []
   },
   "outputs": [
    {
     "data": {
      "text/plain": [
       "array([1, 1, 1])"
      ]
     },
     "execution_count": 7,
     "metadata": {},
     "output_type": "execute_result"
    }
   ],
   "source": [
    "np.ones(3,int)"
   ]
  },
  {
   "cell_type": "code",
   "execution_count": null,
   "id": "777abaa5-fa77-4995-9d7d-13ff5ef549d1",
   "metadata": {},
   "outputs": [],
   "source": []
  }
 ],
 "metadata": {
  "kernelspec": {
   "display_name": "Python 3 (ipykernel)",
   "language": "python",
   "name": "python3"
  },
  "language_info": {
   "codemirror_mode": {
    "name": "ipython",
    "version": 3
   },
   "file_extension": ".py",
   "mimetype": "text/x-python",
   "name": "python",
   "nbconvert_exporter": "python",
   "pygments_lexer": "ipython3",
   "version": "3.11.5"
  }
 },
 "nbformat": 4,
 "nbformat_minor": 5
}
